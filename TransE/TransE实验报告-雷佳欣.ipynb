{
 "cells": [
  {
   "cell_type": "markdown",
   "metadata": {},
   "source": [
    "## TransE模型实现"
   ]
  },
  {
   "cell_type": "markdown",
   "metadata": {},
   "source": [
    "实现TransE.py中根据已有代码补充了模型的_calc函数和loss函数，实现如下：\n",
    "\n",
    "```python\n",
    "   def _calc(self, h, t, r):\n",
    "        if self.norm_flag: # normalize embeddings with l2 norm\n",
    "            h = F.normalize(h,p=2,dim = -1)\n",
    "            t = F.normalize(t,p=2,dim = -1)\n",
    "            r = F.normalize(r,p=2,dim = -1)\n",
    "        score = h+r-t # score公式\n",
    "        score = torch.norm(score,self.p_norm,dim = -1) #计算distance\n",
    "        return score\n",
    "\n",
    "```\n",
    "\n",
    "\n",
    "```python\n",
    "\n",
    "    def loss(self, pos_score, neg_score):\n",
    "        #调用pytorch.MarginRankingLoss\n",
    "        #由于MarginRankingLoss中 loss(x1,x2,y)=max(0,−y∗(x1−x2)+margin)\n",
    "        #将y设为1，x1x2分别为neg和pos的score，实际为 loss = max(0,pos_score - neg_score + margin)\n",
    "        loss_func = nn.MarginRankingLoss(self.margin.item(),size_average = False)\n",
    "        y = torch.Tensor([1])\n",
    "        Loss = loss_func(neg_score,pos_score,y)\n",
    "        return Loss\n",
    "        \n",
    "```\n"
   ]
  },
  {
   "cell_type": "markdown",
   "metadata": {},
   "source": [
    "## TransE应用"
   ]
  },
  {
   "cell_type": "markdown",
   "metadata": {},
   "source": [
    "### 通过给定三元组中两个元素对预测另一个"
   ]
  },
  {
   "cell_type": "markdown",
   "metadata": {},
   "source": [
    "首先训练模型，超参数都为默认值实现在TransE.py 中的Config()类，具体为\n",
    "\n",
    "```python\n",
    "class Config(object):    \n",
    "    def __init__(self):\n",
    "        self.p_norm = 1\n",
    "        self.hidden_size = 50\n",
    "        self.nbatches = 100\n",
    "        self.entity = 0\n",
    "        self.relation = 0\n",
    "        self.trainTimes = 100\n",
    "        self.margin = 1.0\n",
    "        self.learningRate = 0.01\n",
    "        self.use_gpu = False\n",
    "```\n",
    "训练100个epoch，其中一些epoch的loss如下所示：\n",
    "\n",
    "Epoch 1 | loss: 225758.579712 \n",
    "\n",
    "Epoch 20 | loss: 15363.347290 \n",
    "\n",
    "Epoch 30 | loss: 9086.585068 \n",
    "\n",
    "Epoch 50 | loss: 4878.229809  \n",
    "\n",
    "Epoch 70 | loss: 3384.202034 \n",
    "\n",
    "Epoch 100 | loss: 2373.714460\n",
    "\n",
    "\n",
    "可以发现loss下降速度比较均匀，从第90个epoch开始逐渐开始波动，趋于稳定，且最终稳定于2400左右。"
   ]
  },
  {
   "cell_type": "code",
   "execution_count": 204,
   "metadata": {},
   "outputs": [],
   "source": [
    "import torch\n",
    "import torch.nn as nn\n",
    "import torch.nn.functional as F\n",
    "import os\n",
    "import time\n",
    "import numpy as np\n",
    "from TransE import TransE\n",
    "from TransE import Config\n",
    "from load_data import PyTorchTrainDataLoader"
   ]
  },
  {
   "cell_type": "code",
   "execution_count": 205,
   "metadata": {},
   "outputs": [],
   "source": [
    "#初始化模型\n",
    "config = Config()\n",
    "train_dataloader = PyTorchTrainDataLoader(\n",
    "                            in_path = \"./data/\", \n",
    "                            nbatches = config.nbatches,\n",
    "                            threads = 8)\n",
    "    \n",
    "transe = TransE(\n",
    "            ent_tot = train_dataloader.get_ent_tot(),\n",
    "            rel_tot = train_dataloader.get_rel_tot(),\n",
    "            dim = config.hidden_size, #50\n",
    "            p_norm = config.p_norm, \n",
    "            norm_flag = True,\n",
    "            margin=config.margin)"
   ]
  },
  {
   "cell_type": "code",
   "execution_count": 206,
   "metadata": {},
   "outputs": [],
   "source": [
    "#初始化wikidata词条与embedding序号之间的字典\n",
    "ent_dic = {}\n",
    "rel_dic = {}\n",
    "f = open('./data/entity2id.txt','r')\n",
    "next(f)\n",
    "for index in range(train_dataloader.get_ent_tot()):\n",
    "    value,key = f.readline().strip().split()\n",
    "    ent_dic[int(key)] = value\n",
    "f = open('./data/relation2id.txt','r')\n",
    "next(f)\n",
    "for index in range(train_dataloader.get_rel_tot()):\n",
    "    value,key = f.readline().strip().split()\n",
    "    rel_dic[int(key)] = value"
   ]
  },
  {
   "cell_type": "code",
   "execution_count": 207,
   "metadata": {},
   "outputs": [],
   "source": [
    "#载入预训练的embedding参数\n",
    "ent_data = np.loadtxt('entity2vec.txt')\n",
    "rel_data = np.loadtxt('relation2vec.txt')\n",
    "ent_data = torch.Tensor(ent_data)\n",
    "rel_data = torch.Tensor(rel_data)\n",
    "transe.ent_embeddings = transe.ent_embeddings.from_pretrained(ent_data)\n",
    "transe.rel_embeddings = transe.rel_embeddings.from_pretrained(rel_data)"
   ]
  },
  {
   "cell_type": "code",
   "execution_count": 208,
   "metadata": {},
   "outputs": [
    {
     "data": {
      "text/plain": [
       "Parameter containing:\n",
       "tensor([[-0.2084, -0.5272, -0.0708,  ..., -0.2376,  0.5788,  0.0743],\n",
       "        [ 0.0119, -0.1622, -0.0521,  ..., -0.1707, -0.3355, -0.5015],\n",
       "        [-1.6516,  2.0057,  2.1716,  ..., -8.9639,  1.5062, -2.2987],\n",
       "        ...,\n",
       "        [ 0.2418, -0.2356,  0.1741,  ...,  0.0579, -0.1919,  0.0439],\n",
       "        [ 0.0388,  0.1526,  0.1149,  ...,  0.2277,  0.2655, -0.0768],\n",
       "        [-0.0456,  0.0462,  0.3552,  ...,  0.2218,  0.4954,  0.1430]])"
      ]
     },
     "execution_count": 208,
     "metadata": {},
     "output_type": "execute_result"
    }
   ],
   "source": [
    "transe.ent_embeddings.weight"
   ]
  },
  {
   "cell_type": "code",
   "execution_count": 209,
   "metadata": {},
   "outputs": [
    {
     "data": {
      "text/plain": [
       "Parameter containing:\n",
       "tensor([[-0.1695,  0.4049,  0.7886,  ...,  0.3512,  0.5796,  0.1826],\n",
       "        [ 0.4283, -0.0791,  0.5712,  ...,  1.0693, -0.6851, -0.6008],\n",
       "        [ 0.9707, -0.3461,  0.8030,  ...,  0.7767, -0.7109,  0.9902],\n",
       "        ...,\n",
       "        [ 0.1265, -0.0305,  0.1099,  ...,  0.0170, -0.1378, -0.0112],\n",
       "        [ 0.0812,  0.0130, -0.0776,  ...,  0.0495,  0.0462,  0.0362],\n",
       "        [ 0.0162,  0.0444, -0.1756,  ...,  0.0398,  0.1665, -0.1241]])"
      ]
     },
     "execution_count": 209,
     "metadata": {},
     "output_type": "execute_result"
    }
   ],
   "source": [
    "transe.rel_embeddings.weight"
   ]
  },
  {
   "cell_type": "code",
   "execution_count": 210,
   "metadata": {},
   "outputs": [],
   "source": [
    "#预测Q30+P36最接近的尾实体\n",
    "data = {'batch_h':torch.LongTensor([list(ent_dic.keys())[list(ent_dic.values()).index('Q30')]]),\n",
    "        'batch_r':torch.LongTensor([list(rel_dic.keys())[list(rel_dic.values()).index('P36')]]),\n",
    "        'batch_t':torch.LongTensor([i for i in range(train_dataloader.get_ent_tot())])}"
   ]
  },
  {
   "cell_type": "code",
   "execution_count": 221,
   "metadata": {},
   "outputs": [],
   "source": [
    "score = transe.predict(data)\n",
    "for index in score.argsort()[0:10]:\n",
    "    ent_dic[index]"
   ]
  },
  {
   "cell_type": "markdown",
   "metadata": {},
   "source": [
    "编号   |           名称        | 含义\n",
    "------| ------------------- | -------------\n",
    "Q30 | United States of America | sovereign state in North America\n",
    "Q1204  |  <font color='red'> Illinois </font>  | state of the United States of America\n",
    "Q1221 | <font color='red'> Idaho </font> | state of the United States of America\n",
    "Q23556 | Atlanta | city in DeKalb and Fulton counties in Georgia, United States\n",
    "Q61  | <font color='red'> Washington, D.C. </font> | capital city of the United States\n",
    "Q1345 | Philadelphia | largest city in Pennsylvania, United States\n",
    "Q5925 | Orange County | county in California, United States\n",
    "Q60 | New York City | largest city in the United States\n",
    "Q1010232 | Doylestown | borough and county seat of Bucks County, Pennsylvania in the United States\n",
    "Q494192 | Bucks County | county in Pennsylvania, United States"
   ]
  },
  {
   "cell_type": "markdown",
   "metadata": {},
   "source": [
    "上表为当头实体为Q30、关系为P36时由模型进行预测的可能性最高的十个尾实体。其中理想答案Washington,D.C.排在第五位，观察其余各项可以发现均为美国地名，说明模型的预测基本比较有效；但与期望的state级别不同，其余项中仍出现了许多city级别的地名，推测进一步增加语料会取得更好的效果。"
   ]
  },
  {
   "cell_type": "code",
   "execution_count": 224,
   "metadata": {},
   "outputs": [
    {
     "data": {
      "text/plain": [
       "5.01134"
      ]
     },
     "execution_count": 224,
     "metadata": {},
     "output_type": "execute_result"
    }
   ],
   "source": [
    "score_WashingtonDC = score[list(ent_dic.keys())[list(ent_dic.values()).index('Q61')]]\n",
    "score_WashingtonDC"
   ]
  },
  {
   "cell_type": "code",
   "execution_count": 220,
   "metadata": {},
   "outputs": [
    {
     "data": {
      "text/plain": [
       "0.061476763"
      ]
     },
     "execution_count": 220,
     "metadata": {},
     "output_type": "execute_result"
    }
   ],
   "source": [
    "per = (score_WashingtonDC - score.min())/(score.max()-score.min())\n",
    "per"
   ]
  },
  {
   "cell_type": "markdown",
   "metadata": {},
   "source": [
    "如上，Q61的意思为Washington D.C,是期望的Q30与P36的尾实体，可以看到其预测score为5.01，与score最低值Q30的4.61（最大可能值，由于score的运算方法是distance(h+r-t),distance越小即可能性越高）。对理想结果Q61做一个简单的估计发现，若数据在最小值到最大值之间分布较均匀，其应处于6.14%的位置。"
   ]
  },
  {
   "cell_type": "code",
   "execution_count": 225,
   "metadata": {},
   "outputs": [],
   "source": [
    "data_1 = {'batch_h':torch.LongTensor([list(ent_dic.keys())[list(ent_dic.values()).index('Q30')]]),\n",
    "        'batch_t':torch.LongTensor([list(ent_dic.keys())[list(ent_dic.values()).index('Q49')]]),\n",
    "        'batch_r':torch.LongTensor([i for i in range(train_dataloader.get_rel_tot())])}\n",
    "score_1 = transe.predict(data_1)"
   ]
  },
  {
   "cell_type": "code",
   "execution_count": 230,
   "metadata": {
    "collapsed": true
   },
   "outputs": [
    {
     "name": "stdout",
     "output_type": "stream",
     "text": [
      "P30\n",
      "P175\n",
      "P2853\n",
      "P35\n",
      "P1962\n",
      "P40\n",
      "P138\n",
      "P150\n",
      "P1066\n",
      "P461\n"
     ]
    }
   ],
   "source": [
    "for index in score_1.argsort()[0:10]:\n",
    "    print(rel_dic[index])"
   ]
  },
  {
   "cell_type": "markdown",
   "metadata": {},
   "source": [
    "编号   |           名称        | 含义\n",
    "------| ------------------- | -------------\n",
    "P30 |  <font color='red'> continent </font>  | continent of which the subject is a part\n",
    "P175  | performer  | actor, musician, band or other performer associated with this role or musical work\n",
    "P2853 | electrical plug type | standard plug type for mains electricity in a country\n",
    "P35 | head of state | official with the highest formal authority in a country/state\n",
    "P1962  | --- | --\n",
    "P40 | child | subject has object as child. Do not use for stepchildren\n",
    "P138 | named after | entity or event that inspired the subject's name, or namesake (in at least one language)\n",
    "P150 | contains administrative territorial entity | (list of) direct subdivisions of an administrative territorial entity\n",
    "P1066 | student of | person who has taught this person\n",
    "P461 | opposite of| item that is the opposite of this item"
   ]
  },
  {
   "cell_type": "markdown",
   "metadata": {},
   "source": [
    "由上表可得当头实体为Q30(America)、尾实体为Q49(North America)时由模型进行预测的可能性最高的十个关系。  \n",
    "这次的理想结果*'continent'*即为可能性最高的结果。可能是由于关系间的相关性更不明显，有些可能性较高的关系如*'performer'*、*'electrical plug type'*等之间难以看出有合理的关系，不过如*'student of'*、*'child'*等可以看出头实体与尾实体之间的从属关系，确有一定的相似性（与理想结果）。至于*'contains administrative territorial entity'*、*'head of state'*这类关系则可以看出明显的相似性。"
   ]
  },
  {
   "cell_type": "markdown",
   "metadata": {},
   "source": [
    "## 调整模型参数"
   ]
  },
  {
   "cell_type": "markdown",
   "metadata": {},
   "source": [
    "调整p_norm和margin来观察模型变化,调整TransE.py中Config类中的p_norm和margin，并将模型训练的结果分别存入‘entity2vec_pnorm’、‘relation2vec_pnorm’和'entity2vec_margin'、‘relation2vec_margin’"
   ]
  },
  {
   "cell_type": "markdown",
   "metadata": {},
   "source": [
    "#### 调整p_norm\n",
    "\n",
    "\n",
    "将模型超参数p_norm调整为2之后进行100个epoch的训练，其中部分epoch训练后的loss如下：\n",
    "\n",
    "\n",
    "Epoch 1 | loss: 201758.006714  \n",
    "\n",
    "Epoch 20 | loss: 37889.272583  \n",
    "\n",
    "Epoch 30 | loss: 36315.447113 \n",
    "\n",
    "Epoch 50 | loss: 34995.471100  \n",
    "\n",
    "Epoch 70 | loss: 34456.129486 \n",
    "\n",
    "Epoch 100 | loss: 33535.526093\n",
    "\n",
    "\n",
    "可以发现，与p_norm为1时相比，Epoch100是的loss较大，且loss下降较慢。\n",
    "\n",
    "下面对其预测效果进行检测"
   ]
  },
  {
   "cell_type": "code",
   "execution_count": 231,
   "metadata": {},
   "outputs": [],
   "source": [
    "transe_p = TransE(\n",
    "            ent_tot = train_dataloader.get_ent_tot(),\n",
    "            rel_tot = train_dataloader.get_rel_tot(),\n",
    "            dim = config.hidden_size, #50\n",
    "            p_norm = 2, \n",
    "            norm_flag = True,\n",
    "            margin=config.margin)\n",
    "ent_data_p = np.loadtxt('entity2vec_pnorm.txt')\n",
    "rel_data_p = np.loadtxt('relation2vec_pnorm.txt')\n",
    "ent_data_p = torch.Tensor(ent_data_p)\n",
    "rel_data_p = torch.Tensor(rel_data_p)\n",
    "transe_p.ent_embeddings = transe.ent_embeddings.from_pretrained(ent_data_p)\n",
    "transe_p.rel_embeddings = transe.rel_embeddings.from_pretrained(rel_data_p)"
   ]
  },
  {
   "cell_type": "code",
   "execution_count": 232,
   "metadata": {},
   "outputs": [
    {
     "data": {
      "text/plain": [
       "Parameter containing:\n",
       "tensor([[-1.2788e-01,  9.1089e-02, -1.7634e-02,  ...,  3.7515e-01,\n",
       "         -1.6136e-01,  2.5071e-01],\n",
       "        [ 3.5123e-02, -2.3281e-02, -1.4830e-01,  ..., -1.1870e-01,\n",
       "          3.4253e-02, -3.1207e-02],\n",
       "        [-1.3124e-01, -4.5984e-01,  5.6523e-01,  ...,  7.9198e-02,\n",
       "         -6.4722e-01,  3.1638e-01],\n",
       "        ...,\n",
       "        [ 3.8566e-02, -5.0540e-03,  1.2878e-02,  ...,  1.9400e-04,\n",
       "         -7.9931e-02, -1.4378e-01],\n",
       "        [-4.6861e-02,  4.5408e-02, -4.5080e-02,  ..., -9.5583e-02,\n",
       "         -5.0964e-02, -6.4660e-03],\n",
       "        [-7.1060e-03,  4.9039e-02,  3.9668e-02,  ...,  3.5273e-02,\n",
       "         -6.9708e-02, -1.0988e-01]])"
      ]
     },
     "execution_count": 232,
     "metadata": {},
     "output_type": "execute_result"
    }
   ],
   "source": [
    "transe_p.ent_embeddings.weight"
   ]
  },
  {
   "cell_type": "code",
   "execution_count": 233,
   "metadata": {},
   "outputs": [
    {
     "data": {
      "text/plain": [
       "Parameter containing:\n",
       "tensor([[-0.1374,  0.1423, -0.1763,  ..., -0.0977,  0.2418,  0.1493],\n",
       "        [ 0.2064, -0.0599, -0.2287,  ...,  0.1218,  0.2965, -0.3699],\n",
       "        [-0.6295, -0.2186, -0.1002,  ..., -0.2876,  0.4727, -0.0400],\n",
       "        ...,\n",
       "        [ 0.0519, -0.1104, -0.0037,  ...,  0.0595, -0.0837,  0.0802],\n",
       "        [ 0.0144, -0.0369, -0.0788,  ...,  0.0605,  0.0639,  0.0936],\n",
       "        [-0.0100,  0.0288,  0.0759,  ...,  0.0362,  0.0991,  0.0254]])"
      ]
     },
     "execution_count": 233,
     "metadata": {},
     "output_type": "execute_result"
    }
   ],
   "source": [
    "transe_p.rel_embeddings.weight"
   ]
  },
  {
   "cell_type": "code",
   "execution_count": 234,
   "metadata": {},
   "outputs": [],
   "source": [
    "score_p = transe_p.predict(data)"
   ]
  },
  {
   "cell_type": "code",
   "execution_count": 235,
   "metadata": {
    "collapsed": true
   },
   "outputs": [
    {
     "name": "stdout",
     "output_type": "stream",
     "text": [
      "Q49201\n",
      "Q1190590\n",
      "Q28198\n",
      "Q462799\n",
      "Q159288\n",
      "Q184116\n",
      "Q840668\n",
      "Q28260\n",
      "Q49174\n",
      "Q462177\n"
     ]
    }
   ],
   "source": [
    "for index in score_p.argsort()[0:10]:\n",
    "    print(ent_dic[index])"
   ]
  },
  {
   "cell_type": "markdown",
   "metadata": {},
   "source": [
    "编号   |           名称        | 含义\n",
    "------| ------------------- | -------------\n",
    "Q49201 | Portland | county seat of Cumberland County, Maine, United States\n",
    "Q1190590  | Encino | neighborhood in the San Fernando Valley region of Los Angeles, California\n",
    "Q28198 | Jackson  | capital and largest city of Mississippi\n",
    "Q462799 | Evanston | suburban city in Cook County, Illinois, United States\n",
    "Q159288  | Santa Barbara | city in California, United States\n",
    "Q184116 | Gary | city in Lake County, Indiana, United States\n",
    "Q840668 | La Jolla  | neighborhood in San Diego, California, United States\n",
    "Q28260 | Lincoln | city in and state capital of Nebraska, United States\n",
    "Q49174 | Bridgeport | county seat city of Fairfield County, Connecticut, United States\n",
    "Q462177 | White Plains | county seat of Westchester County, New York, United States"
   ]
  },
  {
   "cell_type": "markdown",
   "metadata": {},
   "source": [
    "调整p_norm之后，考察最相似的10个尾实体，结果中许多为地名或与美国相关的结果。问题与之前相同，city级别的实体占了更大比重，且最优结果未出现在相似度最高的10个实体内"
   ]
  },
  {
   "cell_type": "code",
   "execution_count": 236,
   "metadata": {},
   "outputs": [
    {
     "data": {
      "text/plain": [
       "0.6319797"
      ]
     },
     "execution_count": 236,
     "metadata": {},
     "output_type": "execute_result"
    }
   ],
   "source": [
    "score_WashingtonDC_p = score_p[list(ent_dic.keys())[list(ent_dic.values()).index('Q61')]]\n",
    "score_WashingtonDC_p"
   ]
  },
  {
   "cell_type": "code",
   "execution_count": 237,
   "metadata": {},
   "outputs": [
    {
     "data": {
      "text/plain": [
       "0.21097884"
      ]
     },
     "execution_count": 237,
     "metadata": {},
     "output_type": "execute_result"
    }
   ],
   "source": [
    "per_p = (score_WashingtonDC_p-score_p.min())/(score_p.max()-score_p.min())\n",
    "per_p"
   ]
  },
  {
   "cell_type": "markdown",
   "metadata": {},
   "source": [
    "但对于理想结果，即WashingtonDC（Q61）的结果预测显著差于p_norm为1时的预测，若数据在最大最小值分布均匀时，其在整体数据的约21.1%的位置。"
   ]
  },
  {
   "cell_type": "code",
   "execution_count": 238,
   "metadata": {
    "collapsed": true
   },
   "outputs": [
    {
     "name": "stdout",
     "output_type": "stream",
     "text": [
      "P30\n",
      "P1884\n",
      "P1399\n",
      "P1589\n",
      "P206\n",
      "P1056\n",
      "P452\n",
      "P101\n",
      "P512\n",
      "P172\n"
     ]
    }
   ],
   "source": [
    "#预测调整后的Q30+Q49时的最高可能关系\n",
    "score_p_1 = transe_p.predict(data_1)\n",
    "for index in score_p_1.argsort()[0:10]:\n",
    "    print(rel_dic[index])"
   ]
  },
  {
   "cell_type": "markdown",
   "metadata": {},
   "source": [
    "编号   |           名称        | 含义\n",
    "------| ------------------- | -------------\n",
    "P30 | <font color='red'> continent </font> | continent of which the subject is a part\n",
    "P1884  | hair color | person's hair color\n",
    "P1399 | convicted of | crime a person was convicted of\n",
    "P1589 | lowest point | point with lowest elevation in the country, region, city or area\n",
    "P206  | located in or next to body of water | sea, lake or river\n",
    "P1056 | product or material produced | material or product produced by a government agency, business, industry, facility, or process\n",
    "P452 | industry | specific industry of company or organization\n",
    "P101 | field of work | specialization of a person or organization\n",
    "P512 | academic degree | academic degree that the person holds\n",
    "P172 | ethnic group | subject's ethnicity "
   ]
  },
  {
   "cell_type": "markdown",
   "metadata": {},
   "source": [
    "观察调整p_norm的结果，从可能性最高的是个关系来看，模型对期望结果的预测仍然很好都为*'continent'*，但除此项之外的其余项的预测结果从语义相关性上看要稍差于原模型，大多难以看到合理性"
   ]
  },
  {
   "cell_type": "markdown",
   "metadata": {},
   "source": [
    "#### 调整margin\n",
    "\n",
    "\n",
    "原模型margin设为默认值1.0，在此处分别将margin设为0.5与2.0观察和分析模型的变化，其结果分别存入'entity2vec_margin1'、‘relation2vec_margin1’和'entity2vec_margin2'、‘relation2vec_margin2’\n",
    "\n",
    "以下为将margin设为0.5时训练100个epoch中一些epoch的loss:\n",
    "\n",
    "Epoch 1 | loss: 144220.670654\n",
    "\n",
    "Epoch 20 | loss: 9628.716835\n",
    " \n",
    "Epoch 30 | loss: 5772.977055\n",
    "\n",
    "Epoch 50 | loss: 3057.383905\n",
    " \n",
    "Epoch 70 | loss: 2090.676629\n",
    "\n",
    "Epoch 100 | loss: 1368.878580\n",
    "\n",
    "与原模型相比，最终loss降低了，而且尚未出现震荡稳定于某个值的趋势，即随着epoch的增加loss应该还能下降。"
   ]
  },
  {
   "cell_type": "code",
   "execution_count": 239,
   "metadata": {},
   "outputs": [],
   "source": [
    "transe_m1 = TransE(\n",
    "            ent_tot = train_dataloader.get_ent_tot(),\n",
    "            rel_tot = train_dataloader.get_rel_tot(),\n",
    "            dim = config.hidden_size, #50\n",
    "            p_norm = 1, \n",
    "            norm_flag = True,\n",
    "            margin= 0.5)\n",
    "ent_data_m1 = np.loadtxt('entity2vec_margin1.txt')\n",
    "rel_data_m1 = np.loadtxt('relation2vec_margin1.txt')\n",
    "ent_data_m1 = torch.Tensor(ent_data_m1)\n",
    "rel_data_m1 = torch.Tensor(rel_data_m1)\n",
    "transe_m1.ent_embeddings = transe.ent_embeddings.from_pretrained(ent_data_m1)\n",
    "transe_m1.rel_embeddings = transe.rel_embeddings.from_pretrained(rel_data_m1)"
   ]
  },
  {
   "cell_type": "code",
   "execution_count": 240,
   "metadata": {
    "collapsed": true
   },
   "outputs": [
    {
     "name": "stdout",
     "output_type": "stream",
     "text": [
      "Q30\n",
      "Q61\n",
      "Q15142\n",
      "Q49201\n",
      "Q333886\n",
      "Q724\n",
      "Q769446\n",
      "Q60\n",
      "Q65\n",
      "Q47164\n"
     ]
    }
   ],
   "source": [
    "score_m1 = transe_m1.predict(data)\n",
    "for index in score_m1.argsort()[0:10]:\n",
    "    print(ent_dic[index])"
   ]
  },
  {
   "cell_type": "markdown",
   "metadata": {},
   "source": [
    "编号   |           名称        | 含义\n",
    "------| ------------------- | -------------\n",
    "Q30 | United States of America | sovereign state in North America\n",
    "Q61  |  <font color='red'> Washington, D.C. </font> | capital city of the United States\n",
    "Q15142 | University of Massachusetts Amherst | public university in Massachusetts, USA\n",
    "Q49201 | Portland | county seat of Cumberland County, Maine, United States\n",
    "Q333886  | Georgetown University | private university in Washington, D.C., United States\n",
    "Q724 |   <font color='red'> Maine </font> | state of the United States of America\n",
    "Q769446 | Van Nuys   | district in Los Angeles, California\n",
    "Q60 | New York City | largest city in the United States\n",
    "Q65 | Los Angeles | county seat of Los Angeles County, California; second largest city in the United States by population\n",
    "Q47164 | Santa Monica | beachfront city in Los Angeles County, California, United States"
   ]
  },
  {
   "cell_type": "code",
   "execution_count": 244,
   "metadata": {},
   "outputs": [
    {
     "data": {
      "text/plain": [
       "5.0541167"
      ]
     },
     "execution_count": 244,
     "metadata": {},
     "output_type": "execute_result"
    }
   ],
   "source": [
    "score_WashingtonDC_m1 = score_m1[list(ent_dic.keys())[list(ent_dic.values()).index('Q61')]]\n",
    "score_WashingtonDC_m1"
   ]
  },
  {
   "cell_type": "code",
   "execution_count": 245,
   "metadata": {},
   "outputs": [
    {
     "data": {
      "text/plain": [
       "0.12651896"
      ]
     },
     "execution_count": 245,
     "metadata": {},
     "output_type": "execute_result"
    }
   ],
   "source": [
    "per_m1 = (score_WashingtonDC_m1-score_m1.min())/(score_m1.max()-score_m1.min())\n",
    "per_m1"
   ]
  },
  {
   "cell_type": "markdown",
   "metadata": {},
   "source": [
    "去除本就是头实体的Q30，模型对期望结果预测表现很好，不过与前面模型结果略有不同的是，最可能项中入选了两个university这个合理性稍差的实体"
   ]
  },
  {
   "cell_type": "code",
   "execution_count": 246,
   "metadata": {
    "collapsed": true
   },
   "outputs": [
    {
     "name": "stdout",
     "output_type": "stream",
     "text": [
      "P30\n",
      "P37\n",
      "P1387\n",
      "P1589\n",
      "P38\n",
      "P186\n",
      "P552\n",
      "P6\n",
      "P1891\n",
      "P1313\n"
     ]
    }
   ],
   "source": [
    "score_m1_1 = transe_m1.predict(data_1)\n",
    "for index in score_m1_1.argsort()[0:10]:\n",
    "    print(rel_dic[index])"
   ]
  },
  {
   "cell_type": "markdown",
   "metadata": {},
   "source": [
    "编号   |           名称        | 含义\n",
    "------| ------------------- | -------------\n",
    "P30 | <font color='red'> continent </font> | continent of which the subject is a part\n",
    "P37  | official language  | language designated as official by this item\n",
    "P1387 | political alignment | political position within the political spectrum\n",
    "P1589 | lowest point | point with lowest elevation in the country, region, city or area\n",
    "P38  | currency | currency used by item\n",
    "P186 | material used | material the subject is made of or derived from\n",
    "P552 | handedness | handedness of the person\n",
    "P6 | head of government | head of the executive power of this town, city, municipality, state, country, or other governmental body\n",
    "P1891 | signatory | person, country, or organization that has signed an official document\n",
    "P1313 | office held by head of government| political office that is fulfilled by the head of the government of this item"
   ]
  },
  {
   "cell_type": "markdown",
   "metadata": {},
   "source": [
    "除了最优的结果P30正确预测以外，模型对其他可能的关系的预测似乎比原模型差一些"
   ]
  },
  {
   "cell_type": "markdown",
   "metadata": {},
   "source": [
    "以下为将margin设为2.0时训练100个epoch中一些epoch的loss:\n",
    "\n",
    "Epoch 1 | loss: 440228.158203\n",
    "\n",
    "Epoch 20 | loss: 35354.082520\n",
    "\n",
    "Epoch 30 | loss: 20993.740387\n",
    "\n",
    "Epoch 50 | loss: 11657.115448\n",
    "\n",
    "Epoch 70 | loss: 8485.964310\n",
    "\n",
    "Epoch 100 | loss: 6375.767132\n"
   ]
  },
  {
   "cell_type": "code",
   "execution_count": 248,
   "metadata": {},
   "outputs": [],
   "source": [
    "transe_m2 = TransE(\n",
    "            ent_tot = train_dataloader.get_ent_tot(),\n",
    "            rel_tot = train_dataloader.get_rel_tot(),\n",
    "            dim = config.hidden_size, #50\n",
    "            p_norm = 1, \n",
    "            norm_flag = True,\n",
    "            margin= 2)\n",
    "ent_data_m2 = np.loadtxt('entity2vec_margin2.txt')\n",
    "rel_data_m2 = np.loadtxt('relation2vec_margin2.txt')\n",
    "ent_data_m2 = torch.Tensor(ent_data_m2)\n",
    "rel_data_m2 = torch.Tensor(rel_data_m2)\n",
    "transe_m2.ent_embeddings = transe.ent_embeddings.from_pretrained(ent_data_m2)\n",
    "transe_m2.rel_embeddings = transe.rel_embeddings.from_pretrained(rel_data_m2)"
   ]
  },
  {
   "cell_type": "code",
   "execution_count": 249,
   "metadata": {
    "collapsed": true
   },
   "outputs": [
    {
     "name": "stdout",
     "output_type": "stream",
     "text": [
      "Q61\n",
      "Q60\n",
      "Q34006\n",
      "Q30\n",
      "Q65\n",
      "Q1588\n",
      "Q1408\n",
      "Q1649\n",
      "Q1439\n",
      "Q1211\n"
     ]
    }
   ],
   "source": [
    "score_m2 = transe_m2.predict(data)\n",
    "for index in score_m2.argsort()[0:10]:\n",
    "    print(ent_dic[index])"
   ]
  },
  {
   "cell_type": "markdown",
   "metadata": {},
   "source": [
    "编号   |           名称        | 含义\n",
    "------| ------------------- | -------------\n",
    "Q61  |  <font color='red'> Washington, D.C. </font>| capital city of the United States\n",
    "Q60 | New York City | largest city in the United States\n",
    "Q34006  | Hollywood | district in Los Angeles, California, United States\n",
    "Q30 | United States of America | sovereign state in North America\n",
    "Q65 | Los Angeles | county seat of Los Angeles County, California; second largest city in the United States by population\n",
    "Q1588 |  <font color='red'> Louisiana </font> | state in the southern United States\n",
    "Q1408 |  <font color='red'> New Jersey </font> | state of the United States of America\n",
    "Q1649 |  <font color='red'> Oklahoma </font>| state of the United States of America\n",
    "Q1439 |  <font color='red'> Texas </font> | state in the southern United States\n",
    "Q1221 |   <font color='red'> Idaho </font> | state of the United States of America"
   ]
  },
  {
   "cell_type": "markdown",
   "metadata": {},
   "source": [
    "与margin = 1的原模型和margin = 0.5的模型预测结果相比，margin = 2的模型结果要明显好些：其预测结果的最大可能值就是理想结果Q61，此外再其预测最大可能的10个实体中，大多数都是state级别的，好于之前模型中存在许多city级别的实体。"
   ]
  },
  {
   "cell_type": "code",
   "execution_count": 252,
   "metadata": {
    "collapsed": true
   },
   "outputs": [
    {
     "name": "stdout",
     "output_type": "stream",
     "text": [
      "P30\n",
      "P1303\n",
      "P123\n",
      "P2554\n",
      "P734\n",
      "P737\n",
      "P172\n",
      "P37\n",
      "P150\n",
      "P361\n"
     ]
    }
   ],
   "source": [
    "score_m2_1 = transe_m2.predict(data_1)\n",
    "for index in score_m2_1.argsort()[0:10]:\n",
    "    print(rel_dic[index])"
   ]
  },
  {
   "cell_type": "markdown",
   "metadata": {},
   "source": [
    "编号   |           名称        | 含义\n",
    "------| ------------------- | -------------\n",
    "P30 | <font color='red'> continent </font> | continent of which the subject is a part\n",
    "P1303 | instrument | musical instrument that a person plays or teaches or used in a music occupation\n",
    "P123 | publisher | organization or person responsible for publishing books, periodicals, printed music, podcasts, games or software\n",
    "P2554  | production designer | production designer(s) of this motion picture, play, video game or similar\n",
    "P734 | family name | part of full name of person\n",
    "P737 | influenced by | this person, idea, etc. is informed by that other person, idea\n",
    "P172 | ethnic group | subject's ethnicity \n",
    "P37  | official language  | language designated as official by this item\n",
    "P150 | contains administrative territorial entity | (list of) direct subdivisions of an administrative territorial entity\n",
    "P361 | part of | object of which the subject is a part "
   ]
  },
  {
   "cell_type": "markdown",
   "metadata": {},
   "source": [
    "对关系的预测则与margin = 1 的模型差别不大，除了理想结果P30以外，看起来语义合理的结果有P150和P361 "
   ]
  },
  {
   "cell_type": "markdown",
   "metadata": {},
   "source": [
    "从对margin的实验中可以看出，在一定范围内margin越大模型结果越好。  \n",
    "进而思考margin的理论上的作用，理解如下：  \n",
    "\n",
    "从Loss入手，可以看到$Loss=\\max \\{ 0,d\\left( h+r,t\\right) -d\\left( h'+r,t'\\right)+margin \\}$ 故Loss的取值可以分为三大类：\n",
    "\n",
    "1. $d\\left( h+r,t\\right) +margin < d\\left( h'+r,t'\\right)$ **此时负例的距离大于正例+margin，即这个负例对模型影响较小，此时Loss为0，不对参数更新产生贡献。**\n",
    "\n",
    "2. $d\\left( h+r,t\\right)  > d\\left( h'+r,t'\\right)$ **此时负例的距离小于正例，即这个负例比正例更接近原点，此时Loss为正，对参数更新产生贡献。**\n",
    "3. $d\\left( h+r,t\\right) +margin > d\\left( h'+r,t'\\right)$ > $d\\left( h+r,t\\right)$ **此时负例的距离大于正例但小于正例+margin，即这个负例对模型的影响被margin限定为需要考虑，此时Loss为正，对参数更新产生贡献。**\n",
    "\n",
    "从上面的分析可以看出，在一定程度上margin越大就意味着模型越严苛，需要考虑的负例增多自然Loss也相对大，margin越小意味着模型越宽容，需要考虑的负例较少，Loss也相对小（Loss的变化也可从实验结果看出）。"
   ]
  },
  {
   "cell_type": "markdown",
   "metadata": {},
   "source": [
    "## 总结"
   ]
  },
  {
   "cell_type": "markdown",
   "metadata": {},
   "source": [
    "本部分实验中：\n",
    "\n",
    "1. 填写了模型的代码，实现了TransE模型。\n",
    "2. 应用TransE模型对wikidata中的一些三元组进行了预测，并分析了一些其给出的预测结果。\n",
    "3. 以2作为评测标准，分别试验了更改模型超参数p_norm和margin对模型造成的影响，并给出相应分析。\n",
    "\n",
    "get的知识点：\n",
    "\n",
    "1. TransE模型的实现\n",
    "2. MarginLoss的分析\n",
    "3. pytorch的一些包更了解了··\n",
    "4. 对embedding理解加深"
   ]
  },
  {
   "cell_type": "code",
   "execution_count": null,
   "metadata": {},
   "outputs": [],
   "source": []
  }
 ],
 "metadata": {
  "kernelspec": {
   "display_name": "Python 3",
   "language": "python",
   "name": "python3"
  },
  "language_info": {
   "codemirror_mode": {
    "name": "ipython",
    "version": 3
   },
   "file_extension": ".py",
   "mimetype": "text/x-python",
   "name": "python",
   "nbconvert_exporter": "python",
   "pygments_lexer": "ipython3",
   "version": "3.7.6"
  }
 },
 "nbformat": 4,
 "nbformat_minor": 4
}
